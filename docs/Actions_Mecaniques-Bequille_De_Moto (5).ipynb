{
 "cells": [
  {
   "cell_type": "markdown",
   "metadata": {
    "slideshow": {
     "slide_type": "slide"
    }
   },
   "source": [
    "# Modélisation des actions mécaniques et étude de l'équilibre statique d'une béquille de moto :"
   ]
  },
  {
   "cell_type": "markdown",
   "metadata": {
    "slideshow": {
     "slide_type": "slide"
    }
   },
   "source": [
    "## Mise en situation :\n",
    "\n",
    "\n",
    "<img src=\"https://ericecmorlaix.github.io/img/bequille-situation.png\" alt=\"bequille-situation.png\" width=80%>\n",
    "\n",
    "L'objectif de cette étude est de calculer les efforts sur la béquille en phase de \"béquillage\"."
   ]
  },
  {
   "cell_type": "markdown",
   "metadata": {},
   "source": [
    "## Hypothèses :\n",
    "\n",
    "- La répartition des charges et la géométrie du système permet d'effectuer une étude plane dans le plan $(G, \\overrightarrow{x}, \\overrightarrow{y})$.\n",
    "\n",
    "- L'étude s'effectue durant la phase de béquillage.\n",
    "\n",
    "- On suppose une action nulle en $B$ entre la roue arrière et le sol.\n",
    "\n",
    "- Le contact du sol avec la roue avant est modélisé dans le plan, par une liaison ponctuelle de normale $(A, \\overrightarrow{y})$ supposée parfaite (sans frottement).\n",
    "\n",
    "- Le contact de la béquille avec le sol est modélisé dans le plan, par une liaison ponctuelle de normale $(D, \\overrightarrow{y})$.\n",
    "\n",
    "- Le point $G$  représente le centre de gravité du système étudié (moto, pilote et bagages).\n",
    "\n",
    "## Données :\n",
    "\n",
    "-\tLes dimensions sont fournies sur la figure ci-dessous.\n",
    "\n",
    "-\tLa masse totale à prendre en compte est $m = 370 kg$.\n",
    "\n",
    "\n",
    "<img src=\"https://ericecmorlaix.github.io/img/bequille-figure_moto.png\" alt=\"bequille-figure_moto.png\" width=80%>"
   ]
  },
  {
   "cell_type": "markdown",
   "metadata": {},
   "source": [
    "##  Bilan des actions mécaniques sur le système S = { moto + pilote + bagage} :"
   ]
  },
  {
   "cell_type": "markdown",
   "metadata": {},
   "source": [
    "- Modéliser l'action en B du sol sur la roue arrière compte tenu des hypothèses :\n",
    "\n",
    "$\\overrightarrow{B_{sol \\to S}} = $"
   ]
  },
  {
   "cell_type": "markdown",
   "metadata": {},
   "source": [
    "- Modéliser l'action de la pesanteur sur le système étudié :\n",
    "\n",
    "$\\overrightarrow{P_{pesanteur \\to S}} = $"
   ]
  },
  {
   "cell_type": "markdown",
   "metadata": {},
   "source": [
    "- Dresser le tableau modélisant les actions mécaniques transmissibles dans une liaison ponctuelle de normale $\\overrightarrow{y}$ :\n",
    "\n",
    "| F   |  M  |\n",
    "|:---:|:---:|\n",
    "| ... | ... |\n",
    "| ... | ... | \n",
    "| ... | ... |"
   ]
  },
  {
   "cell_type": "markdown",
   "metadata": {},
   "source": [
    "- En déduire le modèle de l'action de contact en A du sol sur la roue avant :\n",
    "\n",
    "$\\overrightarrow{A_{sol \\to S}} = $\n",
    "\n",
    "- En déduire le modèle de l'action de contact en D du sol sur la béquille :\n",
    "\n",
    "$\\overrightarrow{D_{sol \\to S}} = $"
   ]
  },
  {
   "cell_type": "markdown",
   "metadata": {},
   "source": [
    "## Etude de l'équilibre statique du système S = { moto + pilote + bagage} :"
   ]
  },
  {
   "cell_type": "markdown",
   "metadata": {},
   "source": [
    "- Exprimer le moment en A de l'action en B du sol sur la roue arrière :\n",
    "\n",
    "$\\overrightarrow{M_A(\\overrightarrow{B_{sol \\to S}})} = $"
   ]
  },
  {
   "cell_type": "markdown",
   "metadata": {},
   "source": [
    "- Exprimer le moment en A de l'action de la pesanteur sur le système étudié :\n",
    "\n",
    "$\\overrightarrow{M_A(\\overrightarrow{P_{pesanteur \\to S}})} = $"
   ]
  },
  {
   "cell_type": "markdown",
   "metadata": {},
   "source": [
    "- Exprimer le moment en A de l'action en A du sol sur la roue avant :\n",
    "\n",
    "$\\overrightarrow{M_A(\\overrightarrow{A_{sol \\to S}})} = $"
   ]
  },
  {
   "cell_type": "markdown",
   "metadata": {},
   "source": [
    "- Exprimer le moment en A de l'action de contact en D du sol sur la béquille :\n",
    "\n",
    "$\\overrightarrow{M_A(\\overrightarrow{D_{sol \\to S}})} = $"
   ]
  },
  {
   "cell_type": "markdown",
   "metadata": {},
   "source": [
    "Pour que le système S = { moto + pilote + bagage} soit en équilibre statique il faut d'une part que $\\sum\\overrightarrow{M_A(\\overrightarrow{F_{ext \\to S}})} = \\overrightarrow{0}$\n",
    "\n",
    "- En déduire l'intensité de l'action de contact en D du sol sur la béquille :\n",
    "\n",
    "...\n",
    "\n",
    "...\n",
    "\n",
    "$\\|\\overrightarrow{D_{sol \\to S}}\\| = $"
   ]
  },
  {
   "cell_type": "markdown",
   "metadata": {},
   "source": [
    "De plus, pour que le système S = { moto + pilote + bagage} soit en équilibre statique il faut d'autre part que $\\sum\\overrightarrow{F_{ext \\to S}} = \\overrightarrow{0}$\n",
    "\n",
    "- En déduire l'intensité de l'action de contact en A du sol sur la roue avant :\n",
    "\n",
    "...\n",
    "\n",
    "...\n",
    "\n",
    "$\\|\\overrightarrow{A_{sol \\to S}}\\| = $"
   ]
  },
  {
   "cell_type": "markdown",
   "metadata": {},
   "source": [
    "## Références au programme :\n",
    "\n",
    "#### MODÉLISER ET RÉSOUDRE\n",
    "\n",
    "<style type=\"text/css\">\n",
    ".tg  {border-collapse:collapse;border-spacing:0;}\n",
    ".tg td{font-family:Arial, sans-serif;font-size:14px;padding:10px 5px;border-style:solid;border-width:1px;overflow:hidden;word-break:normal;border-color:black;}\n",
    ".tg th{font-family:Arial, sans-serif;font-size:14px;font-weight:normal;padding:10px 5px;border-style:solid;border-width:1px;overflow:hidden;word-break:normal;border-color:black;}\n",
    ".tg .tg-cv16{font-weight:bold;background-color:#dae8fc;border-color:inherit;text-align:center}\n",
    ".tg .tg-xldj{border-color:inherit;text-align:left}\n",
    "</style>\n",
    "<table class=\"tg\">\n",
    "  <tr>\n",
    "    <th class=\"tg-cv16\">Compétences développées</th>\n",
    "    <th class=\"tg-cv16\">Connaissances associées</th>    \n",
    "  </tr>\n",
    "  <tr>\n",
    "    <td class=\"tg-xldj\">Modéliser les actions mécaniques</td>\n",
    "    <td class=\"tg-xldj\">Torseurs d’actions mécaniques transmissibles, de contact ou à distance<br>Réciprocité mouvement relatif/actions mécaniques associées</td>    \n",
    "  </tr>\n",
    "  <tr>\n",
    "    <td class=\"tg-xldj\">Déterminer les actions mécaniques (inconnues statiques de liaisons ou action mécanique extérieure) menant à l’équilibre statique d’un mécanisme, d’un ouvrage ou d’une structure</td>\n",
    "    <td class=\"tg-xldj\">Principe fondamental de la statique</td>    \n",
    "  </tr>\n",
    "</table>"
   ]
  },
  {
   "cell_type": "markdown",
   "metadata": {
    "slideshow": {
     "slide_type": "-"
    }
   },
   "source": [
    "<a rel=\"license\" href=\"http://creativecommons.org/licenses/by-sa/4.0/\"><img alt=\"Licence Creative Commons\" style=\"border-width:0\" src=\"https://i.creativecommons.org/l/by-sa/4.0/88x31.png\" /></a><br />Ce document est mis à disposition selon les termes de la <a rel=\"license\" href=\"http://creativecommons.org/licenses/by-sa/4.0/\">Licence Creative Commons Attribution -  Partage dans les Mêmes Conditions 4.0 International</a>.\n",
    "\n",
    "Pour toute question, suggestion ou commentaire : <a href=\"mailto:eric.madec@ecmorlaix.fr\">eric.madec@ecmorlaix.fr</a>"
   ]
  }
 ],
 "metadata": {
  "hide_input": false,
  "kernelspec": {
   "display_name": "Python 3",
   "language": "python",
   "name": "python3"
  },
  "language_info": {
   "codemirror_mode": {
    "name": "ipython",
    "version": 3
   },
   "file_extension": ".py",
   "mimetype": "text/x-python",
   "name": "python",
   "nbconvert_exporter": "python",
   "pygments_lexer": "ipython3",
   "version": "3.8.5"
  },
  "toc": {
   "base_numbering": 1,
   "nav_menu": {},
   "number_sections": true,
   "sideBar": true,
   "skip_h1_title": false,
   "title_cell": "Table of Contents",
   "title_sidebar": "Contents",
   "toc_cell": false,
   "toc_position": {},
   "toc_section_display": true,
   "toc_window_display": false
  },
  "varInspector": {
   "cols": {
    "lenName": 16,
    "lenType": 16,
    "lenVar": 40
   },
   "kernels_config": {
    "python": {
     "delete_cmd_postfix": "",
     "delete_cmd_prefix": "del ",
     "library": "var_list.py",
     "varRefreshCmd": "print(var_dic_list())"
    },
    "r": {
     "delete_cmd_postfix": ") ",
     "delete_cmd_prefix": "rm(",
     "library": "var_list.r",
     "varRefreshCmd": "cat(var_dic_list()) "
    }
   },
   "types_to_exclude": [
    "module",
    "function",
    "builtin_function_or_method",
    "instance",
    "_Feature"
   ],
   "window_display": false
  }
 },
 "nbformat": 4,
 "nbformat_minor": 2
}
