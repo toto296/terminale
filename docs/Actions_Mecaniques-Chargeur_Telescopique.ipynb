{
 "cells": [
  {
   "cell_type": "markdown",
   "metadata": {
    "slideshow": {
     "slide_type": "slide"
    }
   },
   "source": [
    "# Modélisation des actions mécaniques et étude de l'équilibre statique d'un chargeur téléscopique :"
   ]
  },
  {
   "cell_type": "markdown",
   "metadata": {
    "slideshow": {
     "slide_type": "slide"
    }
   },
   "source": [
    "## Mise en situation :\n",
    "\n",
    "Le système étudié présente un chargeur de type maniscopic :\n",
    "\n",
    "<img src=\"https://ericecmorlaix.github.io/img/Manuscopique-situation.png\" alt=\"Manuscopique-situation.png\" width=80%>"
   ]
  },
  {
   "cell_type": "code",
   "execution_count": 4,
   "metadata": {},
   "outputs": [
    {
     "data": {
      "text/html": [
       "<center>\n",
       "<iframe width=\"560\" height=\"315\" src=\"https://www.youtube.com/embed/INKpl-pmHhg\" frameborder=\"0\" allow=\"accelerometer; autoplay; encrypted-media; gyroscope; picture-in-picture\" allowfullscreen></iframe>\n",
       "</center>\n"
      ],
      "text/plain": [
       "<IPython.core.display.HTML object>"
      ]
     },
     "metadata": {},
     "output_type": "display_data"
    }
   ],
   "source": [
    "%%HTML\n",
    "<center>\n",
    "<iframe width=\"560\" height=\"315\" src=\"https://www.youtube.com/embed/INKpl-pmHhg\" frameborder=\"0\" allow=\"accelerometer; autoplay; encrypted-media; gyroscope; picture-in-picture\" allowfullscreen></iframe>\n",
    "</center>"
   ]
  },
  {
   "cell_type": "markdown",
   "metadata": {
    "slideshow": {
     "slide_type": "slide"
    }
   },
   "source": [
    "<center><a href=\"https://www.youtube.com/embed/INKpl-pmHhg\">Vidéo Manitou-Maniscopic</a></center>\n",
    "\n",
    "\n",
    "L'objectif de cette étude est double :\n",
    "\n",
    "- déterminer les capacités des vérins à manoeuvrer une charge ;\n",
    "\n",
    "- déterminer les conditions de non basculement du chargeur.\n",
    "\n",
    "<br>\n",
    "\n",
    "<br>\n",
    "\n",
    "<br>\n",
    "\n",
    "<br>\n",
    "\n",
    "<br>\n",
    "\n",
    "<br>\n",
    "\n",
    "<br>\n",
    "\n",
    "<br>\n"
   ]
  },
  {
   "cell_type": "markdown",
   "metadata": {
    "slideshow": {
     "slide_type": "slide"
    }
   },
   "source": [
    "<br>\n",
    "\n",
    "<br>\n",
    "\n",
    "<br>\n",
    "\n",
    "<br>\n",
    "\n",
    "<br>\n",
    "\n",
    "<br>\n",
    "\n",
    "<br>\n",
    "\n",
    "<br>\n",
    "\n",
    "<br>\n",
    "\n",
    "<br>\n",
    "\n",
    "<br>\n",
    "\n",
    "\n",
    "## Etude des forces de levage :\n",
    "\n",
    "L’appareil est équipé de 2 vérins hydrauliques principaux dont les actions combinées permettent la manoeuvre d'une charge, un vérin d’allongement et un vérin de levage :\n",
    "\n",
    "<img src=\"https://ericecmorlaix.github.io/img/Manuscopique-hydraulique.png\" alt=\"Manuscopique-hydraulique.png\" width=80%>"
   ]
  },
  {
   "cell_type": "markdown",
   "metadata": {
    "slideshow": {
     "slide_type": "slide"
    }
   },
   "source": [
    "### Caractéristiques principales :\n",
    "\n",
    "- Pression du système : 220 bars ;\n",
    "\n",
    "- Débit à la pression du système 55l/min ;\n",
    "\n",
    "- Vérins hydrauliques :\n",
    "    - de levage :\t\t\t$\\phi_{piston} = 110 mm$, \t$Course = 793 mm$; \t$\\phi_{tige} = 66 mm$\n",
    "    - d'allongement :\t\t\t$\\phi_{piston} = 80 mm$, \t$Course = 1700 mm$; \t$\\phi_{tige} = 50 mm$\n",
    "    "
   ]
  },
  {
   "cell_type": "markdown",
   "metadata": {
    "slideshow": {
     "slide_type": "slide"
    }
   },
   "source": [
    "### Calculs des efforts du vérin de levage :\n",
    "#### Calculer l'intensité de la force de poussée de ce verin :\n",
    "\n",
    "$\\|\\overrightarrow{F_{levage-sortant}}\\| = $\n",
    "\n",
    "#### Calculer l'intensité de la force de rentrée de ce verin :\n",
    "\n",
    "$\\|\\overrightarrow{F_{levage-rentrant}}\\| = $"
   ]
  },
  {
   "cell_type": "markdown",
   "metadata": {
    "slideshow": {
     "slide_type": "slide"
    }
   },
   "source": [
    "### Détermination des efforts du vérin d'allongement :\n",
    "#### Calculer l'intensité de la force de poussée de ce verin :\n",
    "\n",
    "$\\|\\overrightarrow{F_{allongement-sortant}}\\| = $\n",
    "\n",
    "#### Calculer l'intensité de la force de rentrée de ce verin :\n",
    "\n",
    "$\\|\\overrightarrow{F_{allongement-rentrant}}\\| = $"
   ]
  },
  {
   "cell_type": "markdown",
   "metadata": {
    "slideshow": {
     "slide_type": "slide"
    }
   },
   "source": [
    "<br>\n",
    "\n",
    "<br>\n",
    "\n",
    "<br>\n",
    "\n",
    "<br>\n",
    "\n",
    "## Détermination de la charge maximale condition de non basculement : \n",
    "\n",
    "L'objectif de cette étude est de déterminer les conditions de non basculement sous charge afin d'éviter une situation telle que :\n",
    "\n",
    "<img src=\"https://cdn2.regie-agricole.com/ulf/CMS_Content/1/articles/89960/Fiches_2252013_4358_275-1000x562.jpg\" alt=\"Manuscopique-basculement\" width=60%>\n",
    "\n",
    "**Le chargeur ne doit pas basculer sous l’effet d’une charge. Quelle est alors la charge maximale admise ?**\n"
   ]
  },
  {
   "cell_type": "markdown",
   "metadata": {},
   "source": [
    "## Hypothèses :\n",
    "\n",
    "- L'étude s'effectue dans la position de la figure ci-dessous, au début du levage, à la limite de l'équilibre juste avant le basculement sous le poids de la charge.\n",
    "\n",
    "- La répartition des charges et la géométrie du système permet d'effectuer une étude plane dans le plan $(A,\\vec{\\mathbf{x}},\\vec{\\mathbf{y}})$.\n",
    "\n",
    "- On suppose donc une action nulle en $A$ entre la roue arrière et le sol.\n",
    "\n",
    "- Le contact du sol avec la roue avant est modélisé dans le plan, par une liaison ponctuelle de normale $(B, \\overrightarrow{y})$ supposée parfaite (sans frottement).\n",
    "\n",
    "- Le point $G$ représente le centre de gravité du chargeur $(1)$ seul où s'applique $\\overrightarrow{P_1}$ son poids propre.\n",
    "\n",
    "- Le point $C$ est le point d'application de l'action mécanique $\\overrightarrow{C_{Charge \\to 1}}$   qui est égale au poids d'une charge de masse $M$ à manoeuvrer.\n",
    "\n",
    "<img src=\"https://ericecmorlaix.github.io/img/Manuscopique-figure.png\" alt=\"Manuscopique-figure.png\" width=80%>"
   ]
  },
  {
   "cell_type": "markdown",
   "metadata": {},
   "source": [
    "<br>\n",
    "\n",
    "<br>\n",
    "\n",
    "<br>\n",
    "\n",
    "<br>\n",
    "\n",
    "<br>\n",
    "\n",
    "<br>\n",
    "\n",
    "## Données :\n",
    "\n",
    "-\tLes coordonnées des points $B$, $G$, et $C$ sont fournies en $mm$ dans le repère $(A,\\vec{\\mathbf{x}},\\vec{\\mathbf{y}},\\vec{\\mathbf{z}})$ telles que :\n",
    "\n",
    "    $ \\overrightarrow{AB} = 2500 \\cdot \\vec{\\mathbf{x}} + 0 \\cdot \\vec{\\mathbf{y}} + 0 \\cdot \\vec{\\mathbf{z}}$\n",
    "\n",
    "    $ \\overrightarrow{AG} = 650 \\cdot \\vec{\\mathbf{x}} + 1000 \\cdot \\vec{\\mathbf{y}} + 0 \\cdot \\vec{\\mathbf{z}}$\n",
    "\n",
    "    $ \\overrightarrow{AC} = 4000 \\cdot \\vec{\\mathbf{x}} + 100 \\cdot \\vec{\\mathbf{y}} + 0 \\cdot \\vec{\\mathbf{z}}$\n",
    "    \n",
    "\n",
    "-\tLe poids propre du chargeur $(1)$ a pour intensité $\\|\\overrightarrow{P_1}\\| = 35000 N$.\n"
   ]
  },
  {
   "cell_type": "markdown",
   "metadata": {},
   "source": [
    "##  Bilan des actions mécaniques sur le chargeur $(1)$ :"
   ]
  },
  {
   "cell_type": "markdown",
   "metadata": {},
   "source": [
    "- Modéliser l'action en A du sol sur la roue arrière compte tenu des hypothèses :\n",
    "\n",
    "$\\overrightarrow{A_{sol \\to 1}} = $"
   ]
  },
  {
   "cell_type": "markdown",
   "metadata": {},
   "source": [
    "- Modéliser l'action de la pesanteur sur le système étudié en $G$ :\n",
    "\n",
    "$\\overrightarrow{P_1} = $"
   ]
  },
  {
   "cell_type": "markdown",
   "metadata": {},
   "source": [
    "- Modéliser l'action de la charge sur le système étudié en $C$ :\n",
    "\n",
    "$\\overrightarrow{C_{Charge \\to 1}} =$"
   ]
  },
  {
   "cell_type": "markdown",
   "metadata": {},
   "source": [
    "- Dresser le tableau et le torseur modélisant les actions mécaniques transmissibles dans une liaison ponctuelle de normale $(B,\\vec{\\mathbf{y}})$ :\n",
    "\n",
    "| F   |  M  |\n",
    "|:---:|:---:|\n",
    "| ... | ... |\n",
    "| ... | ... | \n",
    "| ... | ... |"
   ]
  },
  {
   "cell_type": "markdown",
   "metadata": {},
   "source": [
    "$$\\left\\{T_{(B,  ext \\to S)}\\right\\}_{ponctuelle} =\n",
    "\\left\\{ \\begin{array}{c}\\overrightarrow{F_{(ext \\to S)}} \\\\\n",
    "\\overrightarrow{M_{(B, ext \\to S)}} \\end{array}\\right\\}_{(B,\\vec{\\mathbf{x}}\\,\\vec{\\mathbf{y}},\\vec{\\mathbf{z}})} = \\begin{bmatrix}\n",
    "  ... & ... \\\\\n",
    "  ... & ... \\\\\n",
    "  ... & ... \\\\   \n",
    " \\end{bmatrix}_{(B,\\vec{\\mathbf{x}}\\,\\vec{\\mathbf{y}},\\vec{\\mathbf{z}})}$$"
   ]
  },
  {
   "cell_type": "markdown",
   "metadata": {},
   "source": [
    "- En déduire le modèle de l'action de contact en B du sol sur la roue avant :\n",
    "\n",
    "$\\overrightarrow{B_{sol \\to 1}} = $\n",
    "\n"
   ]
  },
  {
   "cell_type": "markdown",
   "metadata": {},
   "source": [
    "## Etude de l'équilibre statique du chargeur $(1)$ :"
   ]
  },
  {
   "cell_type": "markdown",
   "metadata": {},
   "source": [
    "- Exprimer le moment en B de l'action en A du sol sur la roue arrière :\n",
    "\n",
    "$\\overrightarrow{M_B(\\overrightarrow{A_{sol \\to 1}})} = $"
   ]
  },
  {
   "cell_type": "markdown",
   "metadata": {},
   "source": [
    "- Exprimer le moment en B de l'action de la pesanteur sur le système étudié :\n",
    "\n",
    "$\\overrightarrow{M_B(\\overrightarrow{P_1})} = $"
   ]
  },
  {
   "cell_type": "markdown",
   "metadata": {},
   "source": [
    "<br>\n",
    "\n",
    "<br>\n",
    "\n",
    "<br>\n",
    "\n",
    "<br>\n",
    "\n",
    "<br>\n",
    "- Exprimer le moment en B de l'action en B du sol sur la roue avant :\n",
    "\n",
    "$\\overrightarrow{M_B(\\overrightarrow{B_{sol \\to 1}})} = $"
   ]
  },
  {
   "cell_type": "markdown",
   "metadata": {},
   "source": [
    "- Exprimer le moment en B de l'action en C de la charge sur le système étudié :\n",
    "\n",
    "$\\overrightarrow{M_B(\\overrightarrow{C_{Charge \\to 1}})} = $"
   ]
  },
  {
   "cell_type": "markdown",
   "metadata": {},
   "source": [
    "Pour que le chargeur $(1)$ soit en équilibre statique il faut d'une part que $\\sum\\overrightarrow{M_B(\\overrightarrow{F_{ext \\to 1}})} = \\overrightarrow{0}$\n",
    "\n",
    "- En déduire l'intensité de la charge maximale permise avant basculement :\n",
    "\n",
    "...\n",
    "\n",
    "...\n",
    "\n",
    "...\n",
    "\n",
    "$\\|\\overrightarrow{C_{Charge \\to 1}}\\| = $"
   ]
  },
  {
   "cell_type": "markdown",
   "metadata": {},
   "source": [
    "De plus, pour que le chargeur $(1)$ soit en équilibre statique il faut d'autre part que $\\sum\\overrightarrow{F_{ext \\to 1}} = \\overrightarrow{0}$\n",
    "\n",
    "- En déduire l'intensité de l'action de contact en B du sol sur la roue avant :\n",
    "\n",
    "...\n",
    "\n",
    "...\n",
    "\n",
    "...\n",
    "\n",
    "$\\|\\overrightarrow{B_{sol \\to 1}}\\| = $"
   ]
  },
  {
   "cell_type": "markdown",
   "metadata": {},
   "source": [
    "Exprimer l'intensité de la charge maximale permise avant basculementent en fonction des paramètres de longueurs $l$ et $m$  :\n",
    "\n",
    "$\\|\\overrightarrow{C_{Charge \\to 1}}\\| = $\n",
    "\n",
    "- Discuter de l'évolution de cette charge maximale si la longueur $m$ augmente ?\n",
    "\n",
    "...\n",
    "\n",
    "...\n",
    "\n",
    "...\n",
    "\n",
    "- Discuter de l'évolution de cette charge maximale si la longueur $l$ augmente ? Mais comment augmenter la longueur $l$ ?\n",
    "\n",
    "...\n",
    "\n",
    "...\n",
    "\n",
    "...\n",
    "\n",
    "<br>\n",
    "\n",
    "<br>\n",
    "\n",
    "<br>\n",
    "\n",
    "<br>\n",
    "\n",
    "<br>\n",
    "\n",
    "<br>"
   ]
  },
  {
   "cell_type": "markdown",
   "metadata": {},
   "source": [
    "<br>\n",
    "\n",
    "<br>\n",
    "\n",
    "<br>\n",
    "\n",
    "<br>\n",
    "\n",
    "<br>\n",
    "\n",
    "<br>\n",
    "\n",
    "## Références au programme :\n",
    "\n",
    "#### MODÉLISER ET RÉSOUDRE\n",
    "\n",
    "<style type=\"text/css\">\n",
    ".tg  {border-collapse:collapse;border-spacing:0;}\n",
    ".tg td{font-family:Arial, sans-serif;font-size:14px;padding:10px 5px;border-style:solid;border-width:1px;overflow:hidden;word-break:normal;border-color:black;}\n",
    ".tg th{font-family:Arial, sans-serif;font-size:14px;font-weight:normal;padding:10px 5px;border-style:solid;border-width:1px;overflow:hidden;word-break:normal;border-color:black;}\n",
    ".tg .tg-cv16{font-weight:bold;background-color:#dae8fc;border-color:inherit;text-align:center}\n",
    ".tg .tg-xldj{border-color:inherit;text-align:left}\n",
    "</style>\n",
    "<table class=\"tg\">\n",
    "  <tr>\n",
    "    <th class=\"tg-cv16\">Compétences développées</th>\n",
    "    <th class=\"tg-cv16\">Connaissances associées</th>    \n",
    "  </tr>\n",
    "  <tr>\n",
    "    <td class=\"tg-xldj\">Modéliser les actions mécaniques</td>\n",
    "    <td class=\"tg-xldj\">Torseurs d’actions mécaniques transmissibles, de contact ou à distance<br>Réciprocité mouvement relatif/actions mécaniques associées</td>    \n",
    "  </tr>\n",
    "  <tr>\n",
    "    <td class=\"tg-xldj\">Déterminer les actions mécaniques (inconnues statiques de liaisons ou action mécanique extérieure) menant à l’équilibre statique d’un mécanisme, d’un ouvrage ou d’une structure</td>\n",
    "    <td class=\"tg-xldj\">Principe fondamental de la statique</td>    \n",
    "  </tr>\n",
    "</table>"
   ]
  },
  {
   "cell_type": "markdown",
   "metadata": {},
   "source": [
    "## Ressources :\n",
    "\n",
    "### [Ecligne/Statique](http://ecligne.net/mecanique/3_statique/sommaire.html) :\n",
    "\n",
    "- [Modélisation des Actions Mécaniques](http://ecligne.net/mecanique/3_statique/0_am/sommaire.html)\n",
    "\n",
    "- [Résolution analytique](http://ecligne.net/mecanique/3_statique/2a_analytique/sommaire.html)\n",
    "\n",
    "\n",
    "### Les Bons Profs :\n",
    "\n",
    "- [Actions mécaniques : les forces - SI - 1ère - Les Bons Profs](https://youtu.be/63WRr5upXbY)\n",
    "\n",
    "- [Les forces : actions mécaniques particulières - SI - 1ère - Les Bons Profs](https://youtu.be/cbAzqOTxpeo)\n",
    "\n",
    "- [Actions mécaniques : les moments - SI - 1ère - Les Bons Profs](https://youtu.be/f0WzJbTiu54)\n",
    "\n",
    "- [Principe fondamental de la statique (PFS) - SI - 1ère - Les Bons Profs](https://youtu.be/W61npS8ZiQE)\n",
    "\n",
    "- [Qu'est-ce qu'un torseur ? - SI - 1ère - Les Bons Profs](https://youtu.be/d7X3D69Pfbw)\n",
    "\n",
    "- [Exemples de torseurs - SI - 1ère - Les Bons Profs](https://youtu.be/dvOKyczB_LM)\n",
    "\n",
    "- [Torseurs de liaisons - SI - 1ère - Les Bons Profs](https://youtu.be/_7ajbckcSSE)\n",
    "\n",
    "\n",
    "### [Clipedia](https://www.youtube.com/channel/UCNwWU1hqK3q-DclufllWCfg) :\n",
    "\n",
    "- [Le moment de force](https://youtu.be/w9R4fuV0fhM)\n",
    "\n",
    "- [Les leviers](https://youtu.be/KNWojsIBgQg)\n",
    "\n",
    "- ...\n"
   ]
  },
  {
   "cell_type": "markdown",
   "metadata": {
    "slideshow": {
     "slide_type": "-"
    }
   },
   "source": [
    "<a rel=\"license\" href=\"http://creativecommons.org/licenses/by-sa/4.0/\"><img alt=\"Licence Creative Commons\" style=\"border-width:0\" src=\"https://i.creativecommons.org/l/by-sa/4.0/88x31.png\" /></a><br />Ce document est mis à disposition selon les termes de la <a rel=\"license\" href=\"http://creativecommons.org/licenses/by-sa/4.0/\">Licence Creative Commons Attribution -  Partage dans les Mêmes Conditions 4.0 International</a>.\n",
    "\n",
    "Pour toute question, suggestion ou commentaire : <a href=\"mailto:eric.madec@ecmorlaix.fr\">eric.madec@ecmorlaix.fr</a>"
   ]
  }
 ],
 "metadata": {
  "hide_input": false,
  "kernelspec": {
   "display_name": "Python 3.10.1 64-bit",
   "language": "python",
   "name": "python3"
  },
  "language_info": {
   "codemirror_mode": {
    "name": "ipython",
    "version": 3
   },
   "file_extension": ".py",
   "mimetype": "text/x-python",
   "name": "python",
   "nbconvert_exporter": "python",
   "pygments_lexer": "ipython3",
   "version": "3.10.1"
  },
  "toc": {
   "base_numbering": 1,
   "nav_menu": {},
   "number_sections": true,
   "sideBar": true,
   "skip_h1_title": false,
   "title_cell": "Table of Contents",
   "title_sidebar": "Contents",
   "toc_cell": false,
   "toc_position": {},
   "toc_section_display": true,
   "toc_window_display": false
  },
  "varInspector": {
   "cols": {
    "lenName": 16,
    "lenType": 16,
    "lenVar": 40
   },
   "kernels_config": {
    "python": {
     "delete_cmd_postfix": "",
     "delete_cmd_prefix": "del ",
     "library": "var_list.py",
     "varRefreshCmd": "print(var_dic_list())"
    },
    "r": {
     "delete_cmd_postfix": ") ",
     "delete_cmd_prefix": "rm(",
     "library": "var_list.r",
     "varRefreshCmd": "cat(var_dic_list()) "
    }
   },
   "types_to_exclude": [
    "module",
    "function",
    "builtin_function_or_method",
    "instance",
    "_Feature"
   ],
   "window_display": false
  },
  "vscode": {
   "interpreter": {
    "hash": "c813da0d88532624e95401f841607d640ef6d724b81c00ab0d0885f617a921c3"
   }
  }
 },
 "nbformat": 4,
 "nbformat_minor": 2
}
